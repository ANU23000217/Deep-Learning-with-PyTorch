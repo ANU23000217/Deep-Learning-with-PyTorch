{
 "cells": [
  {
   "cell_type": "code",
   "execution_count": 1,
   "id": "57ffbbac-9f94-453f-973f-3a9b7c73feba",
   "metadata": {},
   "outputs": [],
   "source": [
    "import torch\n",
    "import torch.nn as nn\n",
    "import torch.nn.functional as F\n",
    "from torch.utils.data import DataLoader\n",
    "from torchvision import datasets, transforms\n",
    "from torchvision.utils import make_grid\n",
    "\n",
    "import numpy as np\n",
    "import pandas as pd \n",
    "from sklearn.metrics import confusion_matrix\n",
    "import matplotlib.pyplot as plt\n",
    "%matplotlib inline"
   ]
  },
  {
   "cell_type": "code",
   "execution_count": 2,
   "id": "cca8435e-bb16-4685-9979-6f952cedcf05",
   "metadata": {},
   "outputs": [],
   "source": [
    "transform = transforms.ToTensor()"
   ]
  },
  {
   "cell_type": "code",
   "execution_count": 3,
   "id": "7848dc6b-cce5-4549-b409-ce0ab71f9f3a",
   "metadata": {},
   "outputs": [],
   "source": [
    "train_data = datasets.MNIST(root='../Data', train=True, download=True, transform=transform)"
   ]
  },
  {
   "cell_type": "code",
   "execution_count": 4,
   "id": "aa3d0c36-3798-42f8-9213-5ec1d3068279",
   "metadata": {},
   "outputs": [],
   "source": [
    "test_data = datasets.MNIST(root='../Data', train=False, download=True, transform=transform)"
   ]
  },
  {
   "cell_type": "code",
   "execution_count": 5,
   "id": "d81a902c-a21e-45e8-aaa1-56549c07d833",
   "metadata": {},
   "outputs": [
    {
     "data": {
      "text/plain": [
       "Dataset MNIST\n",
       "    Number of datapoints: 60000\n",
       "    Root location: ../Data\n",
       "    Split: Train\n",
       "    StandardTransform\n",
       "Transform: ToTensor()"
      ]
     },
     "execution_count": 5,
     "metadata": {},
     "output_type": "execute_result"
    }
   ],
   "source": [
    "train_data"
   ]
  },
  {
   "cell_type": "code",
   "execution_count": 6,
   "id": "680a6f00-bf93-4094-bc15-fe25eb3ebe5c",
   "metadata": {},
   "outputs": [
    {
     "data": {
      "text/plain": [
       "Dataset MNIST\n",
       "    Number of datapoints: 10000\n",
       "    Root location: ../Data\n",
       "    Split: Test\n",
       "    StandardTransform\n",
       "Transform: ToTensor()"
      ]
     },
     "execution_count": 6,
     "metadata": {},
     "output_type": "execute_result"
    }
   ],
   "source": [
    "test_data"
   ]
  },
  {
   "cell_type": "code",
   "execution_count": 7,
   "id": "c56d0f4b-b2b2-4970-9a2a-fb0636d41f3b",
   "metadata": {},
   "outputs": [],
   "source": [
    "train_loader = DataLoader(train_data, batch_size=10, shuffle=True)\n",
    "test_loader = DataLoader(test_data, batch_size=10, shuffle=False)"
   ]
  },
  {
   "cell_type": "code",
   "execution_count": 8,
   "id": "c5ca464d-64eb-4040-b9d9-b93324f9e1a6",
   "metadata": {},
   "outputs": [],
   "source": [
    "class ConvolutionalNetwork(nn.Module):\n",
    "\n",
    "    def __init__(self):\n",
    "        super().__init__()\n",
    "        self.conv1 = nn.Conv2d(1,6,3,1)\n",
    "        self.conv2 = nn.Conv2d(6,16,3,1)\n",
    "        self.fc1 = nn.Linear(5*5*16,120)\n",
    "        self.fc2 = nn.Linear(120,84)\n",
    "        self.fc3 = nn.Linear(84,10)\n",
    "\n",
    "    def forward(self, X):\n",
    "        X = F.relu(self.conv1(X))\n",
    "        X = F.max_pool2d(X, 2, 2)\n",
    "        X = F.relu(self.conv2(X))\n",
    "        X = F.max_pool2d(X, 2, 2)\n",
    "        X = X.view(-1, 5*5*16)\n",
    "        X = F.relu(self.fc1(X))\n",
    "        X = F.relu(self.fc2(X))\n",
    "        X = self.fc3(X)\n",
    "        return F.log_softmax(X, dim=1)\n",
    "        "
   ]
  },
  {
   "cell_type": "code",
   "execution_count": 9,
   "id": "a4643c48-fed5-4efb-9f38-62cf7dc08366",
   "metadata": {},
   "outputs": [
    {
     "data": {
      "text/plain": [
       "ConvolutionalNetwork(\n",
       "  (conv1): Conv2d(1, 6, kernel_size=(3, 3), stride=(1, 1))\n",
       "  (conv2): Conv2d(6, 16, kernel_size=(3, 3), stride=(1, 1))\n",
       "  (fc1): Linear(in_features=400, out_features=120, bias=True)\n",
       "  (fc2): Linear(in_features=120, out_features=84, bias=True)\n",
       "  (fc3): Linear(in_features=84, out_features=10, bias=True)\n",
       ")"
      ]
     },
     "execution_count": 9,
     "metadata": {},
     "output_type": "execute_result"
    }
   ],
   "source": [
    "torch.manual_seed(42)\n",
    "model = ConvolutionalNetwork()\n",
    "model"
   ]
  },
  {
   "cell_type": "code",
   "execution_count": 10,
   "id": "a68b9151-4cd2-4a59-96c1-d2e33481548d",
   "metadata": {},
   "outputs": [
    {
     "name": "stdout",
     "output_type": "stream",
     "text": [
      "54\n",
      "6\n",
      "864\n",
      "16\n",
      "48000\n",
      "120\n",
      "10080\n",
      "84\n",
      "840\n",
      "10\n"
     ]
    }
   ],
   "source": [
    "for param in model.parameters():\n",
    "    print(param.numel())"
   ]
  },
  {
   "cell_type": "code",
   "execution_count": 11,
   "id": "7e106650-5d70-4b16-b935-169c7c11cdce",
   "metadata": {},
   "outputs": [],
   "source": [
    "criterion = nn.CrossEntropyLoss()\n",
    "optimizer = torch.optim.Adam(model.parameters(), lr=0.001)"
   ]
  },
  {
   "cell_type": "code",
   "execution_count": 12,
   "id": "ccb0dfb5-f694-44c3-9fa3-33ac58c72da0",
   "metadata": {},
   "outputs": [
    {
     "name": "stdout",
     "output_type": "stream",
     "text": [
      "epoch: 0  batch: 600 loss: 0.04045899957418442\n",
      "epoch: 0  batch: 1200 loss: 0.07559646666049957\n",
      "epoch: 0  batch: 1800 loss: 0.3719866871833801\n",
      "epoch: 0  batch: 2400 loss: 0.020377913489937782\n",
      "epoch: 0  batch: 3000 loss: 0.006640676409006119\n",
      "epoch: 0  batch: 3600 loss: 0.0025554965250194073\n",
      "epoch: 0  batch: 4200 loss: 0.4508979916572571\n",
      "epoch: 0  batch: 4800 loss: 0.0150034474208951\n",
      "epoch: 0  batch: 5400 loss: 0.0035691172815859318\n",
      "epoch: 0  batch: 6000 loss: 0.05313171073794365\n",
      "epoch: 1  batch: 600 loss: 0.015140739269554615\n",
      "epoch: 1  batch: 1200 loss: 0.05636635422706604\n",
      "epoch: 1  batch: 1800 loss: 0.0012728013098239899\n",
      "epoch: 1  batch: 2400 loss: 0.02415573224425316\n",
      "epoch: 1  batch: 3000 loss: 0.2880892753601074\n",
      "epoch: 1  batch: 3600 loss: 0.0008119273115880787\n",
      "epoch: 1  batch: 4200 loss: 0.00049273029435426\n",
      "epoch: 1  batch: 4800 loss: 0.0006699974765069783\n",
      "epoch: 1  batch: 5400 loss: 0.0023603534791618586\n",
      "epoch: 1  batch: 6000 loss: 0.15053242444992065\n",
      "epoch: 2  batch: 600 loss: 0.001461043837480247\n",
      "epoch: 2  batch: 1200 loss: 0.0010011005215346813\n",
      "epoch: 2  batch: 1800 loss: 0.0030226605013012886\n",
      "epoch: 2  batch: 2400 loss: 0.0006059683510102332\n",
      "epoch: 2  batch: 3000 loss: 0.2240818440914154\n",
      "epoch: 2  batch: 3600 loss: 0.02581975981593132\n",
      "epoch: 2  batch: 4200 loss: 0.013168220408260822\n",
      "epoch: 2  batch: 4800 loss: 0.0014112270437180996\n",
      "epoch: 2  batch: 5400 loss: 0.0004959137877449393\n",
      "epoch: 2  batch: 6000 loss: 9.541473991703242e-05\n",
      "epoch: 3  batch: 600 loss: 0.0016976980259642005\n",
      "epoch: 3  batch: 1200 loss: 0.0007318216958083212\n",
      "epoch: 3  batch: 1800 loss: 0.00021658379409927875\n",
      "epoch: 3  batch: 2400 loss: 0.00042896941886283457\n",
      "epoch: 3  batch: 3000 loss: 3.489069058559835e-05\n",
      "epoch: 3  batch: 3600 loss: 0.002846740186214447\n",
      "epoch: 3  batch: 4200 loss: 0.0007213850622065365\n",
      "epoch: 3  batch: 4800 loss: 0.016500163823366165\n",
      "epoch: 3  batch: 5400 loss: 0.00651472806930542\n",
      "epoch: 3  batch: 6000 loss: 0.0014665824128314853\n",
      "epoch: 4  batch: 600 loss: 0.0010947982082143426\n",
      "epoch: 4  batch: 1200 loss: 0.023347849026322365\n",
      "epoch: 4  batch: 1800 loss: 0.0001659602567087859\n",
      "epoch: 4  batch: 2400 loss: 0.000303101958706975\n",
      "epoch: 4  batch: 3000 loss: 0.002151777734979987\n",
      "epoch: 4  batch: 3600 loss: 4.3293035560054705e-05\n",
      "epoch: 4  batch: 4200 loss: 0.0002881975960917771\n",
      "epoch: 4  batch: 4800 loss: 0.00045157154090702534\n",
      "epoch: 4  batch: 5400 loss: 6.679914804408327e-05\n",
      "epoch: 4  batch: 6000 loss: 0.0017371639842167497\n",
      "Training took 0.3409553011258443 minutes\n"
     ]
    }
   ],
   "source": [
    "import time\n",
    "start_time = time.time()\n",
    "\n",
    "# Variables ( Trackers)\n",
    "epochs = 5\n",
    "train_losses = []\n",
    "test_losses = []\n",
    "train_correct = []\n",
    "test_correct = []\n",
    "\n",
    "# for loop epochs \n",
    "for i in range(epochs):\n",
    "    \n",
    "    trn_corr = 0\n",
    "    tst_corr = 0\n",
    "\n",
    "\n",
    "    # Run the training batches\n",
    "    for b, (X_train, y_train) in enumerate(train_loader):\n",
    "        b+=1\n",
    "        \n",
    "        # Apply the model\n",
    "        y_pred = model(X_train)  # we not flatten X-train here\n",
    "        loss = criterion(y_pred, y_train)\n",
    " \n",
    "        \n",
    "        predicted = torch.max(y_pred.data, 1)[1]\n",
    "        batch_corr = (predicted == y_train).sum()  # Trure 1 / False 0 sum()\n",
    "        trn_corr += batch_corr\n",
    "        \n",
    "        # Update parameters\n",
    "        optimizer.zero_grad()\n",
    "        loss.backward()\n",
    "        optimizer.step()\n",
    "        \n",
    "        # Print interim results\n",
    "        if b%600 == 0:\n",
    "            print(f'epoch: {i}  batch: {b} loss: {loss.item()}')\n",
    "        \n",
    "    train_losses.append(loss)\n",
    "    train_correct.append(trn_corr)\n",
    "        \n",
    "    # Run the testing batches\n",
    "    with torch.no_grad():\n",
    "        for b, (X_test, y_test) in enumerate(test_loader):\n",
    "\n",
    "            # Apply the model\n",
    "            y_val = model(X_test)\n",
    "\n",
    "            # Tally the number of correct predictions\n",
    "            predicted = torch.max(y_val.data, 1)[1] \n",
    "            tst_corr += (predicted == y_test).sum()\n",
    "            \n",
    "    loss = criterion(y_val, y_test)\n",
    "    test_losses.append(loss)\n",
    "    test_correct.append(tst_corr)\n",
    "        \n",
    "current_time = time.time()\n",
    "total = current_time - start_time\n",
    "print(f'Training took {total/60} minutes')"
   ]
  },
  {
   "cell_type": "code",
   "execution_count": 15,
   "id": "99682f26-be00-46d2-8d7d-c91e81bff560",
   "metadata": {},
   "outputs": [
    {
     "data": {
      "image/png": "[encoded data removed]",
      "text/plain": [
       "<Figure size 640x480 with 1 Axes>"
      ]
     },
     "metadata": {},
     "output_type": "display_data"
    }
   ],
   "source": [
    "plt.plot(train_losses, label='training loss')\n",
    "plt.plot(test_losses, label='validation loss')\n",
    "plt.title('Loss at the end of each epoch')\n",
    "plt.legend()\n",
    "plt.show()"
   ]
  },
  {
   "cell_type": "code",
   "execution_count": 16,
   "id": "1222c585-875d-47ce-bf86-3d76931ed6ce",
   "metadata": {},
   "outputs": [
    {
     "data": {
      "image/png": "[encoded data removed]",
      "text/plain": [
       "<Figure size 640x480 with 1 Axes>"
      ]
     },
     "metadata": {},
     "output_type": "display_data"
    }
   ],
   "source": [
    "plt.plot([t/600 for t in train_correct], label='training accuracy')\n",
    "plt.plot([t/100 for t in test_correct], label='validation accuracy')\n",
    "plt.title('Accuracy at the end of each epoch')\n",
    "plt.legend();\n",
    "plt.show()"
   ]
  },
  {
   "cell_type": "code",
   "execution_count": 17,
   "id": "9ca09762-610f-4caf-b9d2-ca519d147caf",
   "metadata": {},
   "outputs": [],
   "source": [
    "# Extract the data all at once, not in batches\n",
    "test_load_all = DataLoader(test_data, batch_size=10000, shuffle=False)"
   ]
  },
  {
   "cell_type": "code",
   "execution_count": 18,
   "id": "5a5cbe1d-d8e0-49f3-8653-215335c4b17f",
   "metadata": {},
   "outputs": [],
   "source": [
    "with torch.no_grad():\n",
    "    correct = 0\n",
    "    for X_test, y_test in test_load_all:\n",
    "        y_val = model(X_test)  # we don't flatten the data this time\n",
    "        predicted = torch.max(y_val,1)[1]\n",
    "        correct += (predicted == y_test).sum()\n"
   ]
  },
  {
   "cell_type": "code",
   "execution_count": 21,
   "id": "d3df19d7-b57c-4e2a-b7ab-1287b399a686",
   "metadata": {},
   "outputs": [
    {
     "name": "stdout",
     "output_type": "stream",
     "text": [
      "[[   0    1    2    3    4    5    6    7    8    9]]\n",
      "\n",
      "[[ 974    0    1    0    0    2    3    0    3    0]\n",
      " [   0 1133    1    0    1    0    4   12    0    2]\n",
      " [   1    0 1022    1    0    0    2    6    0    0]\n",
      " [   0    1    0 1002    0   11    0    0    1    0]\n",
      " [   0    0    2    0  977    0    1    1    1   12]\n",
      " [   0    0    0    1    0  872    3    0    0    3]\n",
      " [   3    0    0    0    1    1  944    0    0    1]\n",
      " [   1    0    4    0    0    0    0 1005    0    3]\n",
      " [   1    1    2    5    0    3    1    1  968   10]\n",
      " [   0    0    0    1    3    3    0    3    1  978]]\n"
     ]
    }
   ],
   "source": [
    "# print a row of values for reference\n",
    "np.set_printoptions(formatter=dict(int=lambda x: f'{x:4}'))\n",
    "print(np.arange(10).reshape(1,10))\n",
    "print()\n",
    "\n",
    "# print the confusion matrix\n",
    "print(confusion_matrix(predicted.view(-1), y_test.view(-1)))"
   ]
  },
  {
   "cell_type": "code",
   "execution_count": 51,
   "id": "16a0411c-0071-4242-8df6-6f219ef669e4",
   "metadata": {},
   "outputs": [
    {
     "data": {
      "image/png": "[encoded data removed]",
      "text/plain": [
       "<Figure size 640x480 with 1 Axes>"
      ]
     },
     "metadata": {},
     "output_type": "display_data"
    }
   ],
   "source": [
    "# single image for test \n",
    "plt.imshow(test_data[2019][0].reshape(28,28))\n",
    "plt.show()"
   ]
  },
  {
   "cell_type": "code",
   "execution_count": 53,
   "id": "086e1f99-008f-4883-a7e5-bd3b048dc499",
   "metadata": {},
   "outputs": [],
   "source": [
    "model.eval()\n",
    "with torch.no_grad():\n",
    "    new_prediction = model(test_data[2019][0].view(1,1,28,28))"
   ]
  },
  {
   "cell_type": "code",
   "execution_count": 54,
   "id": "1be437fb-d683-44da-baba-36b9a2ed689d",
   "metadata": {},
   "outputs": [
    {
     "data": {
      "text/plain": [
       "tensor(9)"
      ]
     },
     "execution_count": 54,
     "metadata": {},
     "output_type": "execute_result"
    }
   ],
   "source": [
    "new_prediction.argmax()"
   ]
  },
  {
   "cell_type": "code",
   "execution_count": null,
   "id": "dd3b1c15-a408-4238-8c63-270a3e61a2ea",
   "metadata": {},
   "outputs": [],
   "source": []
  },
  {
   "cell_type": "code",
   "execution_count": null,
   "id": "e826f65e-53d5-4eed-9099-46a94141c693",
   "metadata": {},
   "outputs": [],
   "source": []
  },
  {
   "cell_type": "code",
   "execution_count": 55,
   "id": "96a98f5e-b4fb-4e93-a0d1-705b4faa22e8",
   "metadata": {},
   "outputs": [
    {
     "data": {
      "image/png": "[encoded data removed]",
      "text/plain": [
       "<Figure size 640x480 with 1 Axes>"
      ]
     },
     "metadata": {},
     "output_type": "display_data"
    }
   ],
   "source": [
    "# single image for test \n",
    "plt.imshow(test_data[333][0].reshape(28,28))\n",
    "plt.show()"
   ]
  },
  {
   "cell_type": "code",
   "execution_count": 56,
   "id": "7ff1ce5a-93eb-4f16-821f-700d623c35d8",
   "metadata": {},
   "outputs": [],
   "source": [
    "model.eval()\n",
    "with torch.no_grad():\n",
    "    new_prediction = model(test_data[333][0].view(1,1,28,28))"
   ]
  },
  {
   "cell_type": "code",
   "execution_count": 57,
   "id": "61190ec7-fae7-46e9-bb06-ef15957ea9b9",
   "metadata": {},
   "outputs": [
    {
     "data": {
      "text/plain": [
       "tensor(5)"
      ]
     },
     "execution_count": 57,
     "metadata": {},
     "output_type": "execute_result"
    }
   ],
   "source": [
    "new_prediction.argmax()"
   ]
  },
  {
   "cell_type": "code",
   "execution_count": 58,
   "id": "b656b65d-b230-46ba-8cc6-f1d16009fa27",
   "metadata": {},
   "outputs": [
    {
     "data": {
      "text/plain": [
       "5"
      ]
     },
     "execution_count": 58,
     "metadata": {},
     "output_type": "execute_result"
    }
   ],
   "source": [
    "test_data[333][1]"
   ]
  },
  {
   "cell_type": "code",
   "execution_count": null,
   "id": "fb040c87-5055-48cc-b377-31f8b164a2d2",
   "metadata": {},
   "outputs": [],
   "source": []
  }
 ],
 "metadata": {
  "kernelspec": {
   "display_name": "Python 3 (ipykernel)",
   "language": "python",
   "name": "python3"
  },
  "language_info": {
   "codemirror_mode": {
    "name": "ipython",
    "version": 3
   },
   "file_extension": ".py",
   "mimetype": "text/x-python",
   "name": "python",
   "nbconvert_exporter": "python",
   "pygments_lexer": "ipython3",
   "version": "3.12.2"
  }
 },
 "nbformat": 4,
 "nbformat_minor": 5
}
